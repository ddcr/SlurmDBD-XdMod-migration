{
 "metadata": {
  "name": "slurm_pandas"
 },
 "nbformat": 3,
 "nbformat_minor": 0,
 "worksheets": [
  {
   "cells": [
    {
     "cell_type": "code",
     "collapsed": false,
     "input": [
      "%pylab inline"
     ],
     "language": "python",
     "metadata": {},
     "outputs": [
      {
       "output_type": "stream",
       "stream": "stdout",
       "text": [
        "\n",
        "Welcome to pylab, a matplotlib-based Python environment [backend: module://IPython.zmq.pylab.backend_inline].\n",
        "For more information, type 'help(pylab)'.\n"
       ]
      }
     ],
     "prompt_number": 1
    },
    {
     "cell_type": "code",
     "collapsed": false,
     "input": [
      "import pandas as pd\n",
      "import numpy as np\n",
      "from datetime import datetime, timedelta"
     ],
     "language": "python",
     "metadata": {},
     "outputs": [],
     "prompt_number": 2
    },
    {
     "cell_type": "markdown",
     "metadata": {},
     "source": [
      "Comando *SLURM* utilizado para estat\u00edstica\n",
      "------------------------------------------\n",
      "\n",
      "* sacct --allusers --allocations --state CD -P --starttime=01/01/12 --endtime=04/14/13 \\\n",
      "      --format=JobID,CPUTimeRAW,Submit,Eligible,Start,End,Elapsed\n"
     ]
    },
    {
     "cell_type": "code",
     "collapsed": false,
     "input": [
      "slurm_acct = pd.read_csv('/home/ddcr/LCC-CENAPAD/Accounting/2012-2013.allocations.completed.txt', sep='|',parse_dates=[2,3,4,5,6])"
     ],
     "language": "python",
     "metadata": {},
     "outputs": [],
     "prompt_number": 3
    },
    {
     "cell_type": "code",
     "collapsed": false,
     "input": [
      "slurm_acct"
     ],
     "language": "python",
     "metadata": {},
     "outputs": [
      {
       "output_type": "pyout",
       "prompt_number": 4,
       "text": [
        "<class 'pandas.core.frame.DataFrame'>\n",
        "Int64Index: 975904 entries, 0 to 975903\n",
        "Data columns (total 7 columns):\n",
        "JobID         975904  non-null values\n",
        "CPUTimeRAW    975904  non-null values\n",
        "Submit        975904  non-null values\n",
        "Eligible      975904  non-null values\n",
        "Start         975904  non-null values\n",
        "End           975904  non-null values\n",
        "Elapsed       975904  non-null values\n",
        "dtypes: datetime64[ns](4), int64(2), object(1)"
       ]
      }
     ],
     "prompt_number": 4
    },
    {
     "cell_type": "code",
     "collapsed": false,
     "input": [
      "slurm_acct.head()"
     ],
     "language": "python",
     "metadata": {},
     "outputs": [
      {
       "html": [
        "<div style=\"max-height:1000px;max-width:1500px;overflow:auto;\">\n",
        "<table border=\"1\" class=\"dataframe\">\n",
        "  <thead>\n",
        "    <tr style=\"text-align: right;\">\n",
        "      <th></th>\n",
        "      <th>JobID</th>\n",
        "      <th>CPUTimeRAW</th>\n",
        "      <th>Submit</th>\n",
        "      <th>Eligible</th>\n",
        "      <th>Start</th>\n",
        "      <th>End</th>\n",
        "      <th>Elapsed</th>\n",
        "    </tr>\n",
        "  </thead>\n",
        "  <tbody>\n",
        "    <tr>\n",
        "      <th>0</th>\n",
        "      <td> 233826</td>\n",
        "      <td> 21590944</td>\n",
        "      <td>2011-12-16 14:22:55</td>\n",
        "      <td>2011-12-16 14:22:55</td>\n",
        "      <td>2011-12-16 14:23:00</td>\n",
        "      <td>2012-01-01 05:13:34</td>\n",
        "      <td> 15-14:50:34</td>\n",
        "    </tr>\n",
        "    <tr>\n",
        "      <th>1</th>\n",
        "      <td> 234154</td>\n",
        "      <td>  6321016</td>\n",
        "      <td>2011-12-22 09:32:35</td>\n",
        "      <td>2011-12-22 09:32:35</td>\n",
        "      <td>2011-12-22 09:32:35</td>\n",
        "      <td>2012-01-09 16:30:09</td>\n",
        "      <td> 18-06:57:34</td>\n",
        "    </tr>\n",
        "    <tr>\n",
        "      <th>2</th>\n",
        "      <td> 234160</td>\n",
        "      <td>  3604504</td>\n",
        "      <td>2011-12-22 10:08:40</td>\n",
        "      <td>2011-12-22 10:08:40</td>\n",
        "      <td>2011-12-22 10:08:40</td>\n",
        "      <td>2012-01-01 20:27:26</td>\n",
        "      <td> 10-10:18:46</td>\n",
        "    </tr>\n",
        "    <tr>\n",
        "      <th>3</th>\n",
        "      <td> 234301</td>\n",
        "      <td>  4264308</td>\n",
        "      <td>2011-12-26 12:27:34</td>\n",
        "      <td>2011-12-26 12:27:34</td>\n",
        "      <td>2011-12-26 12:27:34</td>\n",
        "      <td>2012-01-07 20:35:31</td>\n",
        "      <td> 12-08:07:57</td>\n",
        "    </tr>\n",
        "    <tr>\n",
        "      <th>4</th>\n",
        "      <td> 239468</td>\n",
        "      <td>  1140604</td>\n",
        "      <td>2011-12-29 12:35:41</td>\n",
        "      <td>2011-12-29 12:35:41</td>\n",
        "      <td>2011-12-29 12:35:42</td>\n",
        "      <td>2012-01-01 19:48:13</td>\n",
        "      <td>  3-07:12:31</td>\n",
        "    </tr>\n",
        "  </tbody>\n",
        "</table>\n",
        "</div>"
       ],
       "output_type": "pyout",
       "prompt_number": 5,
       "text": [
        "    JobID  CPUTimeRAW              Submit            Eligible               Start  \\\n",
        "0  233826    21590944 2011-12-16 14:22:55 2011-12-16 14:22:55 2011-12-16 14:23:00   \n",
        "1  234154     6321016 2011-12-22 09:32:35 2011-12-22 09:32:35 2011-12-22 09:32:35   \n",
        "2  234160     3604504 2011-12-22 10:08:40 2011-12-22 10:08:40 2011-12-22 10:08:40   \n",
        "3  234301     4264308 2011-12-26 12:27:34 2011-12-26 12:27:34 2011-12-26 12:27:34   \n",
        "4  239468     1140604 2011-12-29 12:35:41 2011-12-29 12:35:41 2011-12-29 12:35:42   \n",
        "\n",
        "                  End      Elapsed  \n",
        "0 2012-01-01 05:13:34  15-14:50:34  \n",
        "1 2012-01-09 16:30:09  18-06:57:34  \n",
        "2 2012-01-01 20:27:26  10-10:18:46  \n",
        "3 2012-01-07 20:35:31  12-08:07:57  \n",
        "4 2012-01-01 19:48:13   3-07:12:31  "
       ]
      }
     ],
     "prompt_number": 5
    },
    {
     "cell_type": "code",
     "collapsed": false,
     "input": [
      "# create new column with queue waiting times\n",
      "slurm_acct['wait']=slurm_acct['Start']-slurm_acct['Submit']\n",
      "# and convert time differences in hours\n",
      "#slurm_acct['wait']=pd.Series(td.total_seconds()/3600.0 for td in slurm_acct['wait'])"
     ],
     "language": "python",
     "metadata": {},
     "outputs": [],
     "prompt_number": 4
    },
    {
     "cell_type": "code",
     "collapsed": false,
     "input": [
      "print slurm_acct.wait.dtype"
     ],
     "language": "python",
     "metadata": {},
     "outputs": [
      {
       "output_type": "stream",
       "stream": "stdout",
       "text": [
        "timedelta64[ns]\n"
       ]
      }
     ],
     "prompt_number": 5
    },
    {
     "cell_type": "code",
     "collapsed": false,
     "input": [
      "slurm_acct.head()"
     ],
     "language": "python",
     "metadata": {},
     "outputs": [
      {
       "html": [
        "<div style=\"max-height:1000px;max-width:1500px;overflow:auto;\">\n",
        "<table border=\"1\" class=\"dataframe\">\n",
        "  <thead>\n",
        "    <tr style=\"text-align: right;\">\n",
        "      <th></th>\n",
        "      <th>JobID</th>\n",
        "      <th>CPUTimeRAW</th>\n",
        "      <th>Submit</th>\n",
        "      <th>Eligible</th>\n",
        "      <th>Start</th>\n",
        "      <th>End</th>\n",
        "      <th>Elapsed</th>\n",
        "      <th>wait</th>\n",
        "    </tr>\n",
        "  </thead>\n",
        "  <tbody>\n",
        "    <tr>\n",
        "      <th>0</th>\n",
        "      <td> 233826</td>\n",
        "      <td> 21590944</td>\n",
        "      <td>2011-12-16 14:22:55</td>\n",
        "      <td>2011-12-16 14:22:55</td>\n",
        "      <td>2011-12-16 14:23:00</td>\n",
        "      <td>2012-01-01 05:13:34</td>\n",
        "      <td> 15-14:50:34</td>\n",
        "      <td>00:00:05</td>\n",
        "    </tr>\n",
        "    <tr>\n",
        "      <th>1</th>\n",
        "      <td> 234154</td>\n",
        "      <td>  6321016</td>\n",
        "      <td>2011-12-22 09:32:35</td>\n",
        "      <td>2011-12-22 09:32:35</td>\n",
        "      <td>2011-12-22 09:32:35</td>\n",
        "      <td>2012-01-09 16:30:09</td>\n",
        "      <td> 18-06:57:34</td>\n",
        "      <td>00:00:00</td>\n",
        "    </tr>\n",
        "    <tr>\n",
        "      <th>2</th>\n",
        "      <td> 234160</td>\n",
        "      <td>  3604504</td>\n",
        "      <td>2011-12-22 10:08:40</td>\n",
        "      <td>2011-12-22 10:08:40</td>\n",
        "      <td>2011-12-22 10:08:40</td>\n",
        "      <td>2012-01-01 20:27:26</td>\n",
        "      <td> 10-10:18:46</td>\n",
        "      <td>00:00:00</td>\n",
        "    </tr>\n",
        "    <tr>\n",
        "      <th>3</th>\n",
        "      <td> 234301</td>\n",
        "      <td>  4264308</td>\n",
        "      <td>2011-12-26 12:27:34</td>\n",
        "      <td>2011-12-26 12:27:34</td>\n",
        "      <td>2011-12-26 12:27:34</td>\n",
        "      <td>2012-01-07 20:35:31</td>\n",
        "      <td> 12-08:07:57</td>\n",
        "      <td>00:00:00</td>\n",
        "    </tr>\n",
        "    <tr>\n",
        "      <th>4</th>\n",
        "      <td> 239468</td>\n",
        "      <td>  1140604</td>\n",
        "      <td>2011-12-29 12:35:41</td>\n",
        "      <td>2011-12-29 12:35:41</td>\n",
        "      <td>2011-12-29 12:35:42</td>\n",
        "      <td>2012-01-01 19:48:13</td>\n",
        "      <td>  3-07:12:31</td>\n",
        "      <td>00:00:01</td>\n",
        "    </tr>\n",
        "  </tbody>\n",
        "</table>\n",
        "</div>"
       ],
       "output_type": "pyout",
       "prompt_number": 6,
       "text": [
        "    JobID  CPUTimeRAW              Submit            Eligible               Start  \\\n",
        "0  233826    21590944 2011-12-16 14:22:55 2011-12-16 14:22:55 2011-12-16 14:23:00   \n",
        "1  234154     6321016 2011-12-22 09:32:35 2011-12-22 09:32:35 2011-12-22 09:32:35   \n",
        "2  234160     3604504 2011-12-22 10:08:40 2011-12-22 10:08:40 2011-12-22 10:08:40   \n",
        "3  234301     4264308 2011-12-26 12:27:34 2011-12-26 12:27:34 2011-12-26 12:27:34   \n",
        "4  239468     1140604 2011-12-29 12:35:41 2011-12-29 12:35:41 2011-12-29 12:35:42   \n",
        "\n",
        "                  End      Elapsed     wait  \n",
        "0 2012-01-01 05:13:34  15-14:50:34 00:00:05  \n",
        "1 2012-01-09 16:30:09  18-06:57:34 00:00:00  \n",
        "2 2012-01-01 20:27:26  10-10:18:46 00:00:00  \n",
        "3 2012-01-07 20:35:31  12-08:07:57 00:00:00  \n",
        "4 2012-01-01 19:48:13   3-07:12:31 00:00:01  "
       ]
      }
     ],
     "prompt_number": 6
    },
    {
     "cell_type": "code",
     "collapsed": false,
     "input": [
      "# Index our DataFrame by the \"Submit\" column\n",
      "slurm_acct.index = pd.to_datetime(slurm_acct['Submit'])\n",
      "slurm_acct.head(10)"
     ],
     "language": "python",
     "metadata": {},
     "outputs": [
      {
       "html": [
        "<div style=\"max-height:1000px;max-width:1500px;overflow:auto;\">\n",
        "<table border=\"1\" class=\"dataframe\">\n",
        "  <thead>\n",
        "    <tr style=\"text-align: right;\">\n",
        "      <th></th>\n",
        "      <th>JobID</th>\n",
        "      <th>CPUTimeRAW</th>\n",
        "      <th>Submit</th>\n",
        "      <th>Eligible</th>\n",
        "      <th>Start</th>\n",
        "      <th>End</th>\n",
        "      <th>Elapsed</th>\n",
        "      <th>wait</th>\n",
        "    </tr>\n",
        "    <tr>\n",
        "      <th>Submit</th>\n",
        "      <th></th>\n",
        "      <th></th>\n",
        "      <th></th>\n",
        "      <th></th>\n",
        "      <th></th>\n",
        "      <th></th>\n",
        "      <th></th>\n",
        "      <th></th>\n",
        "    </tr>\n",
        "  </thead>\n",
        "  <tbody>\n",
        "    <tr>\n",
        "      <th>2011-12-16 14:22:55</th>\n",
        "      <td> 233826</td>\n",
        "      <td> 21590944</td>\n",
        "      <td>2011-12-16 14:22:55</td>\n",
        "      <td>2011-12-16 14:22:55</td>\n",
        "      <td>2011-12-16 14:23:00</td>\n",
        "      <td>2012-01-01 05:13:34</td>\n",
        "      <td> 15-14:50:34</td>\n",
        "      <td>00:00:05</td>\n",
        "    </tr>\n",
        "    <tr>\n",
        "      <th>2011-12-22 09:32:35</th>\n",
        "      <td> 234154</td>\n",
        "      <td>  6321016</td>\n",
        "      <td>2011-12-22 09:32:35</td>\n",
        "      <td>2011-12-22 09:32:35</td>\n",
        "      <td>2011-12-22 09:32:35</td>\n",
        "      <td>2012-01-09 16:30:09</td>\n",
        "      <td> 18-06:57:34</td>\n",
        "      <td>00:00:00</td>\n",
        "    </tr>\n",
        "    <tr>\n",
        "      <th>2011-12-22 10:08:40</th>\n",
        "      <td> 234160</td>\n",
        "      <td>  3604504</td>\n",
        "      <td>2011-12-22 10:08:40</td>\n",
        "      <td>2011-12-22 10:08:40</td>\n",
        "      <td>2011-12-22 10:08:40</td>\n",
        "      <td>2012-01-01 20:27:26</td>\n",
        "      <td> 10-10:18:46</td>\n",
        "      <td>00:00:00</td>\n",
        "    </tr>\n",
        "    <tr>\n",
        "      <th>2011-12-26 12:27:34</th>\n",
        "      <td> 234301</td>\n",
        "      <td>  4264308</td>\n",
        "      <td>2011-12-26 12:27:34</td>\n",
        "      <td>2011-12-26 12:27:34</td>\n",
        "      <td>2011-12-26 12:27:34</td>\n",
        "      <td>2012-01-07 20:35:31</td>\n",
        "      <td> 12-08:07:57</td>\n",
        "      <td>00:00:00</td>\n",
        "    </tr>\n",
        "    <tr>\n",
        "      <th>2011-12-29 12:35:41</th>\n",
        "      <td> 239468</td>\n",
        "      <td>  1140604</td>\n",
        "      <td>2011-12-29 12:35:41</td>\n",
        "      <td>2011-12-29 12:35:41</td>\n",
        "      <td>2011-12-29 12:35:42</td>\n",
        "      <td>2012-01-01 19:48:13</td>\n",
        "      <td>  3-07:12:31</td>\n",
        "      <td>00:00:01</td>\n",
        "    </tr>\n",
        "    <tr>\n",
        "      <th>2011-12-29 12:37:38</th>\n",
        "      <td> 239469</td>\n",
        "      <td>  2384224</td>\n",
        "      <td>2011-12-29 12:37:38</td>\n",
        "      <td>2011-12-29 12:37:38</td>\n",
        "      <td>2011-12-29 12:37:43</td>\n",
        "      <td>2012-01-05 10:11:59</td>\n",
        "      <td>  6-21:34:16</td>\n",
        "      <td>00:00:05</td>\n",
        "    </tr>\n",
        "    <tr>\n",
        "      <th>2011-12-29 12:39:44</th>\n",
        "      <td> 239470</td>\n",
        "      <td>  1920748</td>\n",
        "      <td>2011-12-29 12:39:44</td>\n",
        "      <td>2011-12-29 12:39:44</td>\n",
        "      <td>2011-12-29 12:39:44</td>\n",
        "      <td>2012-01-04 02:02:51</td>\n",
        "      <td>  5-13:23:07</td>\n",
        "      <td>00:00:00</td>\n",
        "    </tr>\n",
        "    <tr>\n",
        "      <th>2011-12-31 14:06:20</th>\n",
        "      <td> 244650</td>\n",
        "      <td>   280992</td>\n",
        "      <td>2011-12-31 14:06:20</td>\n",
        "      <td>2011-12-31 14:06:20</td>\n",
        "      <td>2011-12-31 14:06:24</td>\n",
        "      <td>2012-01-01 09:37:12</td>\n",
        "      <td>    19:30:48</td>\n",
        "      <td>00:00:04</td>\n",
        "    </tr>\n",
        "    <tr>\n",
        "      <th>2011-12-31 14:08:58</th>\n",
        "      <td> 244651</td>\n",
        "      <td>   386616</td>\n",
        "      <td>2011-12-31 14:08:58</td>\n",
        "      <td>2011-12-31 14:08:58</td>\n",
        "      <td>2011-12-31 14:09:03</td>\n",
        "      <td>2012-01-01 16:59:57</td>\n",
        "      <td>  1-02:50:54</td>\n",
        "      <td>00:00:05</td>\n",
        "    </tr>\n",
        "    <tr>\n",
        "      <th>2012-01-02 10:25:45</th>\n",
        "      <td> 244657</td>\n",
        "      <td>  5307000</td>\n",
        "      <td>2012-01-02 10:25:45</td>\n",
        "      <td>2012-01-02 10:25:45</td>\n",
        "      <td>2012-01-02 10:25:45</td>\n",
        "      <td>2012-01-10 02:42:00</td>\n",
        "      <td>  7-16:16:15</td>\n",
        "      <td>00:00:00</td>\n",
        "    </tr>\n",
        "  </tbody>\n",
        "</table>\n",
        "</div>"
       ],
       "output_type": "pyout",
       "prompt_number": 84,
       "text": [
        "                      JobID  CPUTimeRAW              Submit            Eligible  \\\n",
        "Submit                                                                            \n",
        "2011-12-16 14:22:55  233826    21590944 2011-12-16 14:22:55 2011-12-16 14:22:55   \n",
        "2011-12-22 09:32:35  234154     6321016 2011-12-22 09:32:35 2011-12-22 09:32:35   \n",
        "2011-12-22 10:08:40  234160     3604504 2011-12-22 10:08:40 2011-12-22 10:08:40   \n",
        "2011-12-26 12:27:34  234301     4264308 2011-12-26 12:27:34 2011-12-26 12:27:34   \n",
        "2011-12-29 12:35:41  239468     1140604 2011-12-29 12:35:41 2011-12-29 12:35:41   \n",
        "2011-12-29 12:37:38  239469     2384224 2011-12-29 12:37:38 2011-12-29 12:37:38   \n",
        "2011-12-29 12:39:44  239470     1920748 2011-12-29 12:39:44 2011-12-29 12:39:44   \n",
        "2011-12-31 14:06:20  244650      280992 2011-12-31 14:06:20 2011-12-31 14:06:20   \n",
        "2011-12-31 14:08:58  244651      386616 2011-12-31 14:08:58 2011-12-31 14:08:58   \n",
        "2012-01-02 10:25:45  244657     5307000 2012-01-02 10:25:45 2012-01-02 10:25:45   \n",
        "\n",
        "                                  Start                 End      Elapsed     wait  \n",
        "Submit                                                                             \n",
        "2011-12-16 14:22:55 2011-12-16 14:23:00 2012-01-01 05:13:34  15-14:50:34 00:00:05  \n",
        "2011-12-22 09:32:35 2011-12-22 09:32:35 2012-01-09 16:30:09  18-06:57:34 00:00:00  \n",
        "2011-12-22 10:08:40 2011-12-22 10:08:40 2012-01-01 20:27:26  10-10:18:46 00:00:00  \n",
        "2011-12-26 12:27:34 2011-12-26 12:27:34 2012-01-07 20:35:31  12-08:07:57 00:00:00  \n",
        "2011-12-29 12:35:41 2011-12-29 12:35:42 2012-01-01 19:48:13   3-07:12:31 00:00:01  \n",
        "2011-12-29 12:37:38 2011-12-29 12:37:43 2012-01-05 10:11:59   6-21:34:16 00:00:05  \n",
        "2011-12-29 12:39:44 2011-12-29 12:39:44 2012-01-04 02:02:51   5-13:23:07 00:00:00  \n",
        "2011-12-31 14:06:20 2011-12-31 14:06:24 2012-01-01 09:37:12     19:30:48 00:00:04  \n",
        "2011-12-31 14:08:58 2011-12-31 14:09:03 2012-01-01 16:59:57   1-02:50:54 00:00:05  \n",
        "2012-01-02 10:25:45 2012-01-02 10:25:45 2012-01-10 02:42:00   7-16:16:15 00:00:00  "
       ]
      }
     ],
     "prompt_number": 84
    },
    {
     "cell_type": "code",
     "collapsed": false,
     "input": [
      "# get the most long queued job\n",
      "print slurm_acct.wait.max()"
     ],
     "language": "python",
     "metadata": {},
     "outputs": [
      {
       "output_type": "stream",
       "stream": "stdout",
       "text": [
        "0   28 days, 21:28:17\n",
        "dtype: timedelta64[ns]\n"
       ]
      }
     ],
     "prompt_number": 78
    },
    {
     "cell_type": "code",
     "collapsed": false,
     "input": [
      "import matplotlib.pyplot as plt\n",
      "from mpltools import style\n",
      "style.use(['ggplot', 'pof'])"
     ],
     "language": "python",
     "metadata": {},
     "outputs": [],
     "prompt_number": 79
    },
    {
     "cell_type": "code",
     "collapsed": false,
     "input": [
      "cpu=slurm_acct.resample('M', how='mean',closed='right',label='right')\n",
      "cpu.head()"
     ],
     "language": "python",
     "metadata": {},
     "outputs": [
      {
       "html": [
        "<div style=\"max-height:1000px;max-width:1500px;overflow:auto;\">\n",
        "<table border=\"1\" class=\"dataframe\">\n",
        "  <thead>\n",
        "    <tr style=\"text-align: right;\">\n",
        "      <th></th>\n",
        "      <th>JobID</th>\n",
        "      <th>CPUTimeRAW</th>\n",
        "    </tr>\n",
        "    <tr>\n",
        "      <th>Submit</th>\n",
        "      <th></th>\n",
        "      <th></th>\n",
        "    </tr>\n",
        "  </thead>\n",
        "  <tbody>\n",
        "    <tr>\n",
        "      <th>2011-12-31</th>\n",
        "      <td> 238238.777778</td>\n",
        "      <td> 4654884.000000</td>\n",
        "    </tr>\n",
        "    <tr>\n",
        "      <th>2012-01-31</th>\n",
        "      <td> 514780.979785</td>\n",
        "      <td>     417.458767</td>\n",
        "    </tr>\n",
        "    <tr>\n",
        "      <th>2012-02-29</th>\n",
        "      <td> 786031.589979</td>\n",
        "      <td>  239280.316867</td>\n",
        "    </tr>\n",
        "    <tr>\n",
        "      <th>2012-03-31</th>\n",
        "      <td> 788018.205694</td>\n",
        "      <td>  222595.022661</td>\n",
        "    </tr>\n",
        "    <tr>\n",
        "      <th>2012-04-30</th>\n",
        "      <td> 790073.219373</td>\n",
        "      <td>  482223.311966</td>\n",
        "    </tr>\n",
        "  </tbody>\n",
        "</table>\n",
        "</div>"
       ],
       "output_type": "pyout",
       "prompt_number": 82,
       "text": [
        "                    JobID      CPUTimeRAW\n",
        "Submit                                   \n",
        "2011-12-31  238238.777778  4654884.000000\n",
        "2012-01-31  514780.979785      417.458767\n",
        "2012-02-29  786031.589979   239280.316867\n",
        "2012-03-31  788018.205694   222595.022661\n",
        "2012-04-30  790073.219373   482223.311966"
       ]
      }
     ],
     "prompt_number": 82
    },
    {
     "cell_type": "code",
     "collapsed": false,
     "input": [
      "figure(figsize=(16,5))\n",
      "subplot(121)\n",
      "slurm_acct.CPUTimeRAW.plot()\n",
      "subplot(122)\n",
      "cpu.CPUTimeRAW.plot(kind=\"bar\")"
     ],
     "language": "python",
     "metadata": {},
     "outputs": [
      {
       "output_type": "pyout",
       "prompt_number": 81,
       "text": [
        "<matplotlib.axes.AxesSubplot at 0x89949090>"
       ]
      },
      {
       "output_type": "display_data",
       "png": "[encoded data removed]"
      }
     ],
     "prompt_number": 81
    },
    {
     "cell_type": "code",
     "collapsed": false,
     "input": [
      "slurm_acct.ix[slurm_acct.CPUTimeRAW.argmax()]"
     ],
     "language": "python",
     "metadata": {},
     "outputs": [
      {
       "output_type": "pyout",
       "prompt_number": 40,
       "text": [
        "JobID                      784730\n",
        "CPUTimeRAW               53339600\n",
        "Eligible      2012-01-29 18:35:39\n",
        "Start         2012-01-29 18:35:41\n",
        "End           2012-02-14 05:00:31\n",
        "Elapsed               15-10:24:50\n",
        "wait                      0:00:02\n",
        "Name: 2012-01-29 18:35:39, dtype: object"
       ]
      }
     ],
     "prompt_number": 40
    },
    {
     "cell_type": "code",
     "collapsed": false,
     "input": [],
     "language": "python",
     "metadata": {},
     "outputs": []
    }
   ],
   "metadata": {}
  }
 ]
}